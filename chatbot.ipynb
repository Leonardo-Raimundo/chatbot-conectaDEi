import time

def simular_onboarding_chatbot():
    """
    Simula um chatbot de onboarding para o projeto ConectaDEI,
    utilizando um fluxo de conversa definido e validando as entradas do usuário.
    """
    
    # Dicionário para armazenar os dados coletados do usuário
    perfil_usuario = {}
    
    # Dicionários com as opções que o bot vai oferecer
    opcoes_area = {
        '1': 'Front-end',
        '2': 'Back-end',
        '3': 'DevOps',
        '4': 'Cibersegurança',
        '5': 'UX/UI',
        '6': 'Gestão de Projetos'
    }
    
    opcoes_experiencia = {
        '1': 'Estudante',
        '2': 'Júnior',
        '3': 'Pleno',
        '4': 'Sênior'
    }

    # --- Início da Conversa ---
    
    print("🤖 ConectaBot:")
    # Mensagem de boas-vindas
    print("Olá, Ana! Bem-vindo(a) oficialmente ao ConectaDEI! Vamos fazer um onboarding rápido de 2 passos para entender seus objetivos e encontrar os melhores mentores para você.")
    time.sleep(2) # Pausa para dar um ar mais natural à conversa

    # --- Pergunta 1: Área de Interesse ---
    
    print("\n🤖 ConectaBot:")
    print("Para começar, em qual destas grandes áreas você busca mais desenvolvimento?")
    
    # Mostra as opções para o usuário
    for chave, valor in opcoes_area.items():
        print(f"  [{chave}] - {valor}")

    while True:
        escolha_area = input("👤 Você (digite o número): ")
        if escolha_area in opcoes_area:
            perfil_usuario['area_interesse'] = opcoes_area[escolha_area]
            break
        else:
            print("🤖 ConectaBot: Opção inválida. Por favor, digite um número da lista.")

    # --- Pergunta 2: Nível de Experiência ---

    print("\n🤖 ConectaBot:")
    # Mensagem de transição personalizada com a resposta anterior
    print(f"Perfeito, {perfil_usuario['area_interesse']} é uma área incrível! Agora, para entendermos seu momento de carreira, qual opção melhor te descreve?")
    time.sleep(2)

    # Mostra as opções para o usuário
    for chave, valor in opcoes_experiencia.items():
        print(f"  [{chave}] - {valor}")
        
    while True:
        escolha_exp = input("👤 Você (digite o número): ")
        if escolha_exp in opcoes_experiencia:
            perfil_usuario['nivel_experiencia'] = opcoes_experiencia[escolha_exp]
            break
        else:
            print("🤖 ConectaBot: Opção inválida. Por favor, digite um número da lista.")
            
    # --- Finalização da Conversa ---

    print("\n🤖 ConectaBot:")
    # Mensagem de conclusão
    print("Prontinho! Seu perfil inicial está configurado. Com base nas suas respostas, nosso algoritmo já está buscando os mentores ideais para sua jornada.")
    print("Enquanto isso, que tal explorar a plataforma? Você será notificado(a) assim que encontrarmos um match!")
    time.sleep(1)
    
    print("\n--- DADOS COLETADOS ---")
    print(f"Área de Interesse: {perfil_usuario['area_interesse']}")
    print(f"Nível de Experiência: {perfil_usuario['nivel_experiencia']}")
    print("------------------------")


# Executa o chatbot
if __name__ == "__main__":
    simular_onboarding_chatbot()
